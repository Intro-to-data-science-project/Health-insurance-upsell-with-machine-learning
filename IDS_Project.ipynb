{
 "cells": [
  {
   "cell_type": "markdown",
   "metadata": {
    "heading_collapsed": true
   },
   "source": [
    "# i. Business Understanding"
   ]
  },
  {
   "cell_type": "markdown",
   "metadata": {
    "hidden": true
   },
   "source": [
    "## i.i Insurance All Company"
   ]
  },
  {
   "cell_type": "markdown",
   "metadata": {
    "hidden": true
   },
   "source": [
    "* Insurance All is a company that provides  insurance to its customers and the product team is analyzing the possibility of offering policyholders a new product: Health insurance .\n"
   ]
  },
  {
   "cell_type": "markdown",
   "metadata": {},
   "source": [
    "# 0.0 Imports and Helper Functions"
   ]
  },
  {
   "cell_type": "markdown",
   "metadata": {},
   "source": [
    "## 0.1 Imports"
   ]
  },
  {
   "cell_type": "code",
   "execution_count": 144,
   "metadata": {
    "ExecuteTime": {
     "end_time": "2021-02-27T17:03:50.382619Z",
     "start_time": "2021-02-27T17:03:49.147680Z"
    }
   },
   "outputs": [],
   "source": [
    "import os\n",
    "import joblib\n",
    "import warnings\n",
    "import inflection\n",
    "\n",
    "import numpy             as np\n",
    "import pandas            as pd\n",
    "import seaborn           as sns\n",
    "#import psycopg2          as pg\n",
    "import scikitplot        as skplt\n",
    "import category_encoders as ce\n",
    "\n",
    "import sklearn.metrics   as mtr\n",
    "import matplotlib.pyplot as plt\n",
    "\n",
    "from scipy       import stats\n",
    "\n",
    "\n",
    "\n",
    "from sklearn.linear_model import LogisticRegression\n",
    "\n",
    "from sklearn.preprocessing    import MinMaxScaler, StandardScaler, RobustScaler\n",
    "from sklearn.model_selection  import GridSearchCV, train_test_split, StratifiedKFold\n",
    "from sklearn.feature_selection import SelectFromModel"
   ]
  },
  {
   "cell_type": "markdown",
   "metadata": {
    "heading_collapsed": true
   },
   "source": [
    "## 0.2 Helper Functions"
   ]
  },
  {
   "cell_type": "code",
   "execution_count": 145,
   "metadata": {
    "ExecuteTime": {
     "end_time": "2021-02-24T19:16:10.477564Z",
     "start_time": "2021-02-24T19:16:10.470940Z"
    },
    "hidden": true
   },
   "outputs": [],
   "source": [
    "warnings.filterwarnings('ignore')\n",
    "\n",
    "seed = 42\n",
    "np.random.seed(seed)"
   ]
  },
  {
   "cell_type": "code",
   "execution_count": 146,
   "metadata": {
    "ExecuteTime": {
     "end_time": "2021-02-24T19:16:11.279196Z",
     "start_time": "2021-02-24T19:16:11.274349Z"
    },
    "hidden": true
   },
   "outputs": [],
   "source": [
    "def calcCramerV(x, y):\n",
    "    cm = pd.crosstab(x, y).values\n",
    "    n = cm.sum()\n",
    "    r, k = cm.shape\n",
    "    \n",
    "    chi2 = stats.chi2_contingency(cm)[0]\n",
    "    chi2corr = max(0, chi2 - (k-1)*(r-1)/(n-1))\n",
    "    \n",
    "    kcorr = k - (k-1)**2/(n-1)\n",
    "    rcorr = r - (r-1)**2/(n-1)\n",
    "    \n",
    "    return np.sqrt((chi2corr/n) / (min(kcorr-1, rcorr-1)))"
   ]
  },
  {
   "cell_type": "code",
   "execution_count": 147,
   "metadata": {
    "ExecuteTime": {
     "end_time": "2021-02-24T19:16:11.890067Z",
     "start_time": "2021-02-24T19:16:11.883856Z"
    },
    "hidden": true
   },
   "outputs": [],
   "source": [
    "def getLifeStage(age):\n",
    "    if age <= 3:\n",
    "        life_stage = \"Infancy\"\n",
    "    \n",
    "    elif age > 3 and age <= 6:\n",
    "        life_stage = \"Early Childhood\"\n",
    "        \n",
    "    elif age > 6 and age <= 8:\n",
    "        life_stage = \"Middle Childhood\"\n",
    "        \n",
    "    elif age >= 9 and age <= 11:\n",
    "        lige_stage = \"Late Childhood\"\n",
    "        \n",
    "    elif age >= 12 and age <= 20:\n",
    "        life_stage = \"Adolescence\"\n",
    "        \n",
    "    elif age > 20 and age <= 35:\n",
    "        life_stage = \"Early Adulthood\"\n",
    "        \n",
    "    elif age > 35 and age <= 50:\n",
    "        life_stage = \"Midlife\"\n",
    "        \n",
    "    elif age > 50 and age <= 80:\n",
    "        life_stage = \"Mature Adulthood\"\n",
    "        \n",
    "    else:\n",
    "        life_stage = \"Late Adulthood\"\n",
    "        \n",
    "    return life_stage"
   ]
  },
  {
   "cell_type": "code",
   "execution_count": 148,
   "metadata": {
    "ExecuteTime": {
     "end_time": "2021-02-24T19:16:12.501249Z",
     "start_time": "2021-02-24T19:16:12.493741Z"
    },
    "hidden": true
   },
   "outputs": [],
   "source": [
    "def normal_tests(data):\n",
    "    bx = stats.boxcox(data)[0]\n",
    "    sq = np.sqrt(data)\n",
    "    cb = np.cbrt(data)\n",
    "    log = np.log(data)\n",
    "    \n",
    "    return pd.DataFrame({\n",
    "        'Shapiro': [stats.shapiro(data)[0], stats.shapiro(bx)[0], stats.shapiro(sq)[0], stats.shapiro(cb)[0], stats.shapiro(log)[0]],\n",
    "        'Skew': [stats.skew(data), stats.skew(bx), stats.skew(sq), stats.skew(cb), stats.skew(log)],\n",
    "        'Kurtosis': [stats.kurtosis(data), stats.kurtosis(bx), stats.kurtosis(sq), stats.kurtosis(cb), stats.kurtosis(log)]\n",
    "    }, index=['default', 'boxcox', 'sqrt', 'cuberoot', 'log'])"
   ]
  },
  {
   "cell_type": "code",
   "execution_count": 149,
   "metadata": {
    "ExecuteTime": {
     "end_time": "2021-02-24T19:16:13.126668Z",
     "start_time": "2021-02-24T19:16:13.120094Z"
    },
    "hidden": true
   },
   "outputs": [],
   "source": [
    "def top_k_precision(y_true, y_score, k=10, return_df=False):\n",
    "    df = pd.DataFrame({'true': y_true, 'score': y_score[:, 1]})\n",
    "    \n",
    "    df.sort_values('score', ascending=False, inplace=True)\n",
    "    df.reset_index(drop=True, inplace=True)\n",
    "    \n",
    "    df['ranking'] = df.index + 1\n",
    "    df['precision_top_k'] = df['true'].cumsum()/df['ranking']\n",
    "    \n",
    "    if return_df:\n",
    "        return df.loc[k, 'precision_top_k'], df\n",
    "    \n",
    "    else:\n",
    "        return df.loc[k, 'precision_top_k']"
   ]
  },
  {
   "cell_type": "code",
   "execution_count": 150,
   "metadata": {
    "ExecuteTime": {
     "end_time": "2021-02-24T19:16:13.732300Z",
     "start_time": "2021-02-24T19:16:13.721224Z"
    },
    "hidden": true
   },
   "outputs": [],
   "source": [
    "def top_k_recall(y_true, y_score, k=10, return_df=False):\n",
    "    df = pd.DataFrame({'true': y_true, 'score': y_score[:, 1]})\n",
    "    \n",
    "    df.sort_values('score', ascending=False, inplace=True)\n",
    "    df.reset_index(drop=True, inplace=True)\n",
    "    \n",
    "    df['ranking'] = df.index + 1\n",
    "    df['recall_top_k'] = df['true'].cumsum()/df['true'].sum()\n",
    "\n",
    "    if return_df:\n",
    "        return df.loc[k, 'recall_top_k'], df\n",
    "    \n",
    "    else:\n",
    "        return df.loc[k, 'recall_top_k']"
   ]
  },
  {
   "cell_type": "code",
   "execution_count": 151,
   "metadata": {
    "ExecuteTime": {
     "end_time": "2021-02-24T19:16:14.424433Z",
     "start_time": "2021-02-24T19:16:14.420814Z"
    },
    "hidden": true
   },
   "outputs": [],
   "source": [
    "def top_k_f1score(y_true, y_score, k=10):\n",
    "\n",
    "    precision = top_k_precision(y_true, y_score, k)\n",
    "    recall = top_k_recall(y_true, y_score, k)\n",
    "\n",
    "    f1 = 2 * (precision * recall) / (precision + recall)\n",
    "\n",
    "    return f1"
   ]
  },
  {
   "cell_type": "code",
   "execution_count": 152,
   "metadata": {
    "ExecuteTime": {
     "end_time": "2021-02-24T19:16:15.381129Z",
     "start_time": "2021-02-24T19:16:15.364489Z"
    },
    "hidden": true
   },
   "outputs": [],
   "source": [
    "def ml_cv_results(model_name, model, x, y, verbose=1):\n",
    "    \n",
    "    '''initial'''\n",
    "    precisions = []\n",
    "    recalls = []\n",
    "    f1s = []\n",
    "    \n",
    "    ## defining\n",
    "    ohe_columns = ['previously_insured', 'vehicle_damage']\n",
    "    ohe = ce.OneHotEncoder(cols=ohe_columns, use_cat_names=True)\n",
    "    \n",
    "    te_columns = ['policy_sales_channel']\n",
    "    te = ce.TargetEncoder(cols=te_columns, return_df=False)\n",
    "    \n",
    "    mm = MinMaxScaler()\n",
    "    \n",
    "    ss = StandardScaler()\n",
    "    \n",
    "    cs = ['previously_insured_yes', 'previously_insured_no', 'vehicle_damage_no',\n",
    "          'vehicle_damage_yes', 'policy_sales_channel_te', 'age_bx_ss', 'age_mm']\n",
    "    \n",
    "    ## defining as array\n",
    "    x_ = x.to_numpy()\n",
    "    y_ = y.to_numpy()\n",
    "    \n",
    "    count = 0\n",
    "    \n",
    "    '''cross-validation'''\n",
    "    skf = StratifiedKFold(n_splits=5, shuffle=True)\n",
    "    for index_train, index_test in skf.split(x_, y_):\n",
    "        \n",
    "        ## Showing the Fold\n",
    "        if verbose > 0:\n",
    "            count += 1\n",
    "            print('Fold K=%i' % (count))\n",
    "    \n",
    "        ## selecting train and test\n",
    "        x_train, x_test = x.iloc[index_train], x.iloc[index_test]\n",
    "        y_train, y_test = y.iloc[index_train], y.iloc[index_test]\n",
    "        \n",
    "        ## data preparation\n",
    "        x_train = ohe.fit_transform(x_train)\n",
    "        x_test = ohe.transform(x_test)\n",
    "        \n",
    "        x_train['policy_sales_channel_te'] = te.fit_transform(x_train['policy_sales_channel'], y_train)\n",
    "        x_test['policy_sales_channel_te'] = te.transform(x_test['policy_sales_channel'], y_test)\n",
    "        \n",
    "        x_train['age_bx'] = stats.boxcox(x_train['age'])[0]\n",
    "        x_test['age_bx'] = stats.boxcox(x_test['age'])[0]\n",
    "        \n",
    "        x_train.loc[:, 'age_bx_ss'] = ss.fit_transform(x_train[['age_bx']])\n",
    "        x_test.loc[:, 'age_bx_ss'] = ss.transform(x_test[['age_bx']])\n",
    "        \n",
    "        x_train.loc[:, 'age_mm'] = mm.fit_transform(x_train[['age']])\n",
    "        x_test.loc[:, 'age_mm'] = mm.transform(x_test[['age']])\n",
    "    \n",
    "        x_train = x_train[cs]\n",
    "        x_test = x_test[cs]\n",
    "    \n",
    "        ## training the model\n",
    "        model.fit(x_train, y_train)\n",
    "        y_prob = model.predict_proba(x_test)\n",
    "\n",
    "        ## saving the metrics\n",
    "        k = int(0.5 * y_test.shape[0])\n",
    "        \n",
    "        precision = top_k_precision(y_test, y_prob, k=k)\n",
    "        recall = top_k_recall(y_test, y_prob, k=k)\n",
    "        f1 = 2*(precision*recall) / (precision+recall)\n",
    "        \n",
    "        precisions.append(precision)\n",
    "        recalls.append(recall)\n",
    "        f1s.append(f1)\n",
    "        \n",
    "    '''results'''\n",
    "    precision_mean, precision_std = np.round(np.mean(precisions), 4), np.round(np.std(precisions), 4)\n",
    "    recall_mean, recall_std = np.round(np.mean(recalls), 4), np.round(np.std(recalls), 4)\n",
    "    f1_mean, f1_std = np.round(np.mean(f1s), 4), np.round(np.std(f1s), 4)\n",
    "    \n",
    "    ## saving the results in a dataframe\n",
    "    return pd.DataFrame({\"Precision_at_k\": \"{} +/- {}\".format(precision_mean, precision_std),\n",
    "                         \"Recall_at_k\": \"{} +/- {}\".format(recall_mean, recall_std),\n",
    "                         \"F1_at_k\": \"{} +/- {}\".format(f1_mean, f1_std)},\n",
    "                        index=[model_name])"
   ]
  },
  {
   "cell_type": "code",
   "execution_count": 153,
   "metadata": {
    "ExecuteTime": {
     "end_time": "2021-02-24T19:16:16.152287Z",
     "start_time": "2021-02-24T19:16:16.148056Z"
    },
    "hidden": true
   },
   "outputs": [],
   "source": [
    "def ml_top_k_scores(model_name, y_true, y_score, k=10):\n",
    "    \n",
    "    precision = top_k_precision(y_true, y_score, k)\n",
    "    recall = top_k_recall(y_true, y_score, k)\n",
    "    f1 = top_k_f1score(y_true, y_score, k)\n",
    "    \n",
    "    return pd.DataFrame({'Precision_at_k': np.round(precision, 4), \n",
    "                         'Recall_at_k': np.round(recall, 4),\n",
    "                         'F1_at_k': np.round(f1, 4)},\n",
    "                        index=[model_name])"
   ]
  },
  {
   "cell_type": "markdown",
   "metadata": {},
   "source": [
    "# 1.0 Data Description"
   ]
  },
  {
   "cell_type": "markdown",
   "metadata": {},
   "source": [
    "## 1.1 Loading Data"
   ]
  },
  {
   "cell_type": "code",
   "execution_count": 154,
   "metadata": {
    "ExecuteTime": {
     "end_time": "2021-02-27T17:06:51.517671Z",
     "start_time": "2021-02-27T17:06:42.335174Z"
    }
   },
   "outputs": [],
   "source": [
    "df1=pd.read_csv('C:/Users/Raghavendra Reddy/Downloads/train.csv')\n"
   ]
  },
  {
   "cell_type": "code",
   "execution_count": 155,
   "metadata": {
    "ExecuteTime": {
     "end_time": "2021-02-27T17:06:51.547638Z",
     "start_time": "2021-02-27T17:06:51.519895Z"
    }
   },
   "outputs": [
    {
     "data": {
      "text/html": [
       "<div>\n",
       "<style scoped>\n",
       "    .dataframe tbody tr th:only-of-type {\n",
       "        vertical-align: middle;\n",
       "    }\n",
       "\n",
       "    .dataframe tbody tr th {\n",
       "        vertical-align: top;\n",
       "    }\n",
       "\n",
       "    .dataframe thead th {\n",
       "        text-align: right;\n",
       "    }\n",
       "</style>\n",
       "<table border=\"1\" class=\"dataframe\">\n",
       "  <thead>\n",
       "    <tr style=\"text-align: right;\">\n",
       "      <th></th>\n",
       "      <th>id</th>\n",
       "      <th>gender</th>\n",
       "      <th>age</th>\n",
       "      <th>driving_license</th>\n",
       "      <th>region_code</th>\n",
       "      <th>previously_insured</th>\n",
       "      <th>vehicle_age</th>\n",
       "      <th>vehicle_damage</th>\n",
       "      <th>annual_premium</th>\n",
       "      <th>policy_sales_channel</th>\n",
       "      <th>vintage</th>\n",
       "      <th>response</th>\n",
       "    </tr>\n",
       "  </thead>\n",
       "  <tbody>\n",
       "    <tr>\n",
       "      <th>0</th>\n",
       "      <td>1</td>\n",
       "      <td>Male</td>\n",
       "      <td>44</td>\n",
       "      <td>1</td>\n",
       "      <td>28</td>\n",
       "      <td>0</td>\n",
       "      <td>&gt; 2 Years</td>\n",
       "      <td>Yes</td>\n",
       "      <td>40454</td>\n",
       "      <td>26</td>\n",
       "      <td>217</td>\n",
       "      <td>1</td>\n",
       "    </tr>\n",
       "    <tr>\n",
       "      <th>1</th>\n",
       "      <td>2</td>\n",
       "      <td>Male</td>\n",
       "      <td>76</td>\n",
       "      <td>1</td>\n",
       "      <td>3</td>\n",
       "      <td>0</td>\n",
       "      <td>1-2 Year</td>\n",
       "      <td>No</td>\n",
       "      <td>33536</td>\n",
       "      <td>26</td>\n",
       "      <td>183</td>\n",
       "      <td>0</td>\n",
       "    </tr>\n",
       "    <tr>\n",
       "      <th>2</th>\n",
       "      <td>3</td>\n",
       "      <td>Male</td>\n",
       "      <td>47</td>\n",
       "      <td>1</td>\n",
       "      <td>28</td>\n",
       "      <td>0</td>\n",
       "      <td>&gt; 2 Years</td>\n",
       "      <td>Yes</td>\n",
       "      <td>38294</td>\n",
       "      <td>26</td>\n",
       "      <td>27</td>\n",
       "      <td>1</td>\n",
       "    </tr>\n",
       "    <tr>\n",
       "      <th>3</th>\n",
       "      <td>4</td>\n",
       "      <td>Male</td>\n",
       "      <td>21</td>\n",
       "      <td>1</td>\n",
       "      <td>11</td>\n",
       "      <td>1</td>\n",
       "      <td>&lt; 1 Year</td>\n",
       "      <td>No</td>\n",
       "      <td>28619</td>\n",
       "      <td>152</td>\n",
       "      <td>203</td>\n",
       "      <td>0</td>\n",
       "    </tr>\n",
       "    <tr>\n",
       "      <th>4</th>\n",
       "      <td>5</td>\n",
       "      <td>Female</td>\n",
       "      <td>29</td>\n",
       "      <td>1</td>\n",
       "      <td>41</td>\n",
       "      <td>1</td>\n",
       "      <td>&lt; 1 Year</td>\n",
       "      <td>No</td>\n",
       "      <td>27496</td>\n",
       "      <td>152</td>\n",
       "      <td>39</td>\n",
       "      <td>0</td>\n",
       "    </tr>\n",
       "  </tbody>\n",
       "</table>\n",
       "</div>"
      ],
      "text/plain": [
       "   id  gender  age  driving_license  region_code  previously_insured  \\\n",
       "0   1    Male   44                1           28                   0   \n",
       "1   2    Male   76                1            3                   0   \n",
       "2   3    Male   47                1           28                   0   \n",
       "3   4    Male   21                1           11                   1   \n",
       "4   5  Female   29                1           41                   1   \n",
       "\n",
       "  vehicle_age vehicle_damage  annual_premium  policy_sales_channel  vintage  \\\n",
       "0   > 2 Years            Yes           40454                    26      217   \n",
       "1    1-2 Year             No           33536                    26      183   \n",
       "2   > 2 Years            Yes           38294                    26       27   \n",
       "3    < 1 Year             No           28619                   152      203   \n",
       "4    < 1 Year             No           27496                   152       39   \n",
       "\n",
       "   response  \n",
       "0         1  \n",
       "1         0  \n",
       "2         1  \n",
       "3         0  \n",
       "4         0  "
      ]
     },
     "execution_count": 155,
     "metadata": {},
     "output_type": "execute_result"
    }
   ],
   "source": [
    "df1.head()"
   ]
  },
  {
   "cell_type": "code",
   "execution_count": 156,
   "metadata": {
    "ExecuteTime": {
     "end_time": "2021-02-24T12:48:23.516157Z",
     "start_time": "2021-02-24T12:48:23.496548Z"
    }
   },
   "outputs": [
    {
     "data": {
      "text/html": [
       "<div>\n",
       "<style scoped>\n",
       "    .dataframe tbody tr th:only-of-type {\n",
       "        vertical-align: middle;\n",
       "    }\n",
       "\n",
       "    .dataframe tbody tr th {\n",
       "        vertical-align: top;\n",
       "    }\n",
       "\n",
       "    .dataframe thead th {\n",
       "        text-align: right;\n",
       "    }\n",
       "</style>\n",
       "<table border=\"1\" class=\"dataframe\">\n",
       "  <thead>\n",
       "    <tr style=\"text-align: right;\">\n",
       "      <th></th>\n",
       "      <th>id</th>\n",
       "      <th>gender</th>\n",
       "      <th>age</th>\n",
       "      <th>driving_license</th>\n",
       "      <th>region_code</th>\n",
       "      <th>previously_insured</th>\n",
       "      <th>vehicle_age</th>\n",
       "      <th>vehicle_damage</th>\n",
       "      <th>annual_premium</th>\n",
       "      <th>policy_sales_channel</th>\n",
       "      <th>vintage</th>\n",
       "      <th>response</th>\n",
       "    </tr>\n",
       "  </thead>\n",
       "  <tbody>\n",
       "    <tr>\n",
       "      <th>381104</th>\n",
       "      <td>381105</td>\n",
       "      <td>Male</td>\n",
       "      <td>74</td>\n",
       "      <td>1</td>\n",
       "      <td>26</td>\n",
       "      <td>1</td>\n",
       "      <td>1-2 Year</td>\n",
       "      <td>No</td>\n",
       "      <td>30170</td>\n",
       "      <td>26</td>\n",
       "      <td>88</td>\n",
       "      <td>0</td>\n",
       "    </tr>\n",
       "    <tr>\n",
       "      <th>381105</th>\n",
       "      <td>381106</td>\n",
       "      <td>Male</td>\n",
       "      <td>30</td>\n",
       "      <td>1</td>\n",
       "      <td>37</td>\n",
       "      <td>1</td>\n",
       "      <td>&lt; 1 Year</td>\n",
       "      <td>No</td>\n",
       "      <td>40016</td>\n",
       "      <td>152</td>\n",
       "      <td>131</td>\n",
       "      <td>0</td>\n",
       "    </tr>\n",
       "    <tr>\n",
       "      <th>381106</th>\n",
       "      <td>381107</td>\n",
       "      <td>Male</td>\n",
       "      <td>21</td>\n",
       "      <td>1</td>\n",
       "      <td>30</td>\n",
       "      <td>1</td>\n",
       "      <td>&lt; 1 Year</td>\n",
       "      <td>No</td>\n",
       "      <td>35118</td>\n",
       "      <td>160</td>\n",
       "      <td>161</td>\n",
       "      <td>0</td>\n",
       "    </tr>\n",
       "    <tr>\n",
       "      <th>381107</th>\n",
       "      <td>381108</td>\n",
       "      <td>Female</td>\n",
       "      <td>68</td>\n",
       "      <td>1</td>\n",
       "      <td>14</td>\n",
       "      <td>0</td>\n",
       "      <td>&gt; 2 Years</td>\n",
       "      <td>Yes</td>\n",
       "      <td>44617</td>\n",
       "      <td>124</td>\n",
       "      <td>74</td>\n",
       "      <td>0</td>\n",
       "    </tr>\n",
       "    <tr>\n",
       "      <th>381108</th>\n",
       "      <td>381109</td>\n",
       "      <td>Male</td>\n",
       "      <td>46</td>\n",
       "      <td>1</td>\n",
       "      <td>29</td>\n",
       "      <td>0</td>\n",
       "      <td>1-2 Year</td>\n",
       "      <td>No</td>\n",
       "      <td>41777</td>\n",
       "      <td>26</td>\n",
       "      <td>237</td>\n",
       "      <td>0</td>\n",
       "    </tr>\n",
       "  </tbody>\n",
       "</table>\n",
       "</div>"
      ],
      "text/plain": [
       "            id  gender  age  driving_license  region_code  previously_insured  \\\n",
       "381104  381105    Male   74                1           26                   1   \n",
       "381105  381106    Male   30                1           37                   1   \n",
       "381106  381107    Male   21                1           30                   1   \n",
       "381107  381108  Female   68                1           14                   0   \n",
       "381108  381109    Male   46                1           29                   0   \n",
       "\n",
       "       vehicle_age vehicle_damage  annual_premium  policy_sales_channel  \\\n",
       "381104    1-2 Year             No           30170                    26   \n",
       "381105    < 1 Year             No           40016                   152   \n",
       "381106    < 1 Year             No           35118                   160   \n",
       "381107   > 2 Years            Yes           44617                   124   \n",
       "381108    1-2 Year             No           41777                    26   \n",
       "\n",
       "        vintage  response  \n",
       "381104       88         0  \n",
       "381105      131         0  \n",
       "381106      161         0  \n",
       "381107       74         0  \n",
       "381108      237         0  "
      ]
     },
     "execution_count": 156,
     "metadata": {},
     "output_type": "execute_result"
    }
   ],
   "source": [
    "df1.tail()"
   ]
  },
  {
   "cell_type": "markdown",
   "metadata": {
    "heading_collapsed": true
   },
   "source": [
    "## 1.2 Columns"
   ]
  },
  {
   "cell_type": "markdown",
   "metadata": {
    "hidden": true
   },
   "source": [
    "### 1.2.1 Column Descriptions"
   ]
  },
  {
   "cell_type": "markdown",
   "metadata": {
    "hidden": true
   },
   "source": [
    "* **Id:** Unique ID for the customer.\n",
    "* **Gender:** Gender of the customer.\n",
    "* **Age:** Age of the customer.\n",
    "* **Driving License:** 0, customer does not have DL; 1, customer already has DL.\n",
    "* **Region Code:** Unique code for the region of the customer.\n",
    "* **Previously Insured:** 1, customer already has vehicle insurance; 0, customer doesn't have vehicle insurance.\n",
    "* **Vehicle Age:** Age of the vehicle.\n",
    "* **Vehicle Damage:** 1, customer got his/her vehicle damaged in the past; 0, customer didn't get his/her vehicle damaged in the past.\n",
    "* **Anual Premium:** The amount customer needs to pay as premium in the year.\n",
    "* **Policy sales channel:** Anonymized Code for the channel of outreaching to the customer ie. Different Agents, Over Mail, Over Phone, In Person, etc.\n",
    "* **Vintage:** Number of Days, customer has been associated with the company.\n",
    "* **Response:** 1, customer is interested; 0, customer is not interested."
   ]
  },
  {
   "cell_type": "markdown",
   "metadata": {
    "heading_collapsed": true,
    "hidden": true
   },
   "source": [
    "### 1.2.2 Column Rename"
   ]
  },
  {
   "cell_type": "markdown",
   "metadata": {
    "hidden": true
   },
   "source": [
    "The columns doesn't need to be changed."
   ]
  },
  {
   "cell_type": "markdown",
   "metadata": {
    "heading_collapsed": true,
    "hidden": true
   },
   "source": [
    "### 1.2.3 Columns to Drop"
   ]
  },
  {
   "cell_type": "code",
   "execution_count": 157,
   "metadata": {
    "ExecuteTime": {
     "end_time": "2021-02-24T12:48:23.584133Z",
     "start_time": "2021-02-24T12:48:23.518850Z"
    },
    "hidden": true
   },
   "outputs": [],
   "source": [
    "df1 = df1.drop(columns=['id', 'id', 'id'], axis=1)"
   ]
  },
  {
   "cell_type": "markdown",
   "metadata": {
    "heading_collapsed": true
   },
   "source": [
    "## 1.3 Data Dimensions"
   ]
  },
  {
   "cell_type": "code",
   "execution_count": 158,
   "metadata": {
    "ExecuteTime": {
     "end_time": "2021-02-24T12:48:23.599538Z",
     "start_time": "2021-02-24T12:48:23.588575Z"
    },
    "hidden": true
   },
   "outputs": [
    {
     "name": "stdout",
     "output_type": "stream",
     "text": [
      "Number of Rows: 381109\n",
      "Number of Cols: 11\n"
     ]
    }
   ],
   "source": [
    "print('Number of Rows: {}'.format(df1.shape[0]))\n",
    "print('Number of Cols: {}'.format(df1.shape[1]))"
   ]
  },
  {
   "cell_type": "markdown",
   "metadata": {
    "heading_collapsed": true
   },
   "source": [
    "## 1.4 Data Types and Structures"
   ]
  },
  {
   "cell_type": "code",
   "execution_count": 159,
   "metadata": {
    "ExecuteTime": {
     "end_time": "2021-02-24T12:48:23.747534Z",
     "start_time": "2021-02-24T12:48:23.606402Z"
    },
    "hidden": true
   },
   "outputs": [
    {
     "name": "stdout",
     "output_type": "stream",
     "text": [
      "<class 'pandas.core.frame.DataFrame'>\n",
      "RangeIndex: 381109 entries, 0 to 381108\n",
      "Data columns (total 11 columns):\n",
      " #   Column                Non-Null Count   Dtype \n",
      "---  ------                --------------   ----- \n",
      " 0   gender                381109 non-null  object\n",
      " 1   age                   381109 non-null  int64 \n",
      " 2   driving_license       381109 non-null  int64 \n",
      " 3   region_code           381109 non-null  int64 \n",
      " 4   previously_insured    381109 non-null  int64 \n",
      " 5   vehicle_age           381109 non-null  object\n",
      " 6   vehicle_damage        381109 non-null  object\n",
      " 7   annual_premium        381109 non-null  int64 \n",
      " 8   policy_sales_channel  381109 non-null  int64 \n",
      " 9   vintage               381109 non-null  int64 \n",
      " 10  response              381109 non-null  int64 \n",
      "dtypes: int64(8), object(3)\n",
      "memory usage: 32.0+ MB\n"
     ]
    }
   ],
   "source": [
    "df1.info()"
   ]
  },
  {
   "cell_type": "markdown",
   "metadata": {
    "heading_collapsed": true
   },
   "source": [
    "## 1.5 Check NA"
   ]
  },
  {
   "cell_type": "code",
   "execution_count": 160,
   "metadata": {
    "ExecuteTime": {
     "end_time": "2021-02-24T12:48:23.874050Z",
     "start_time": "2021-02-24T12:48:23.753463Z"
    },
    "hidden": true
   },
   "outputs": [
    {
     "data": {
      "text/plain": [
       "gender                  0.0\n",
       "age                     0.0\n",
       "driving_license         0.0\n",
       "region_code             0.0\n",
       "previously_insured      0.0\n",
       "vehicle_age             0.0\n",
       "vehicle_damage          0.0\n",
       "annual_premium          0.0\n",
       "policy_sales_channel    0.0\n",
       "vintage                 0.0\n",
       "response                0.0\n",
       "dtype: float64"
      ]
     },
     "execution_count": 160,
     "metadata": {},
     "output_type": "execute_result"
    }
   ],
   "source": [
    "df1.isna().mean()"
   ]
  },
  {
   "cell_type": "markdown",
   "metadata": {},
   "source": [
    "## 1.6 Fill Out NA"
   ]
  },
  {
   "cell_type": "markdown",
   "metadata": {},
   "source": [
    "There's no values to fill"
   ]
  },
  {
   "cell_type": "markdown",
   "metadata": {},
   "source": [
    "## 1.7 Change Data Type"
   ]
  },
  {
   "cell_type": "markdown",
   "metadata": {},
   "source": [
    "I'll change the values of 0 to 'no' and 1 to 'yes' to improve the data analysis."
   ]
  },
  {
   "cell_type": "code",
   "execution_count": 161,
   "metadata": {
    "ExecuteTime": {
     "end_time": "2021-02-24T12:48:24.028596Z",
     "start_time": "2021-02-24T12:48:23.877610Z"
    }
   },
   "outputs": [],
   "source": [
    "df1['previously_insured'] = df1['previously_insured'].map({0: 'no', 1: 'yes'})\n",
    "df1['response'] = df1['response'].map({0: 'no', 1: 'yes'})\n",
    "df1['driving_license'] = df1['driving_license'].map({0: 'no', 1: 'yes'})\n",
    "df1['vehicle_damage'] = df1['vehicle_damage'].map({'Yes': 'yes', 'No': 'no'})"
   ]
  },
  {
   "cell_type": "code",
   "execution_count": 162,
   "metadata": {
    "ExecuteTime": {
     "end_time": "2021-02-24T12:48:24.052167Z",
     "start_time": "2021-02-24T12:48:24.030119Z"
    }
   },
   "outputs": [
    {
     "data": {
      "text/html": [
       "<div>\n",
       "<style scoped>\n",
       "    .dataframe tbody tr th:only-of-type {\n",
       "        vertical-align: middle;\n",
       "    }\n",
       "\n",
       "    .dataframe tbody tr th {\n",
       "        vertical-align: top;\n",
       "    }\n",
       "\n",
       "    .dataframe thead th {\n",
       "        text-align: right;\n",
       "    }\n",
       "</style>\n",
       "<table border=\"1\" class=\"dataframe\">\n",
       "  <thead>\n",
       "    <tr style=\"text-align: right;\">\n",
       "      <th></th>\n",
       "      <th>gender</th>\n",
       "      <th>age</th>\n",
       "      <th>driving_license</th>\n",
       "      <th>region_code</th>\n",
       "      <th>previously_insured</th>\n",
       "      <th>vehicle_age</th>\n",
       "      <th>vehicle_damage</th>\n",
       "      <th>annual_premium</th>\n",
       "      <th>policy_sales_channel</th>\n",
       "      <th>vintage</th>\n",
       "      <th>response</th>\n",
       "    </tr>\n",
       "  </thead>\n",
       "  <tbody>\n",
       "    <tr>\n",
       "      <th>0</th>\n",
       "      <td>Male</td>\n",
       "      <td>44</td>\n",
       "      <td>yes</td>\n",
       "      <td>28</td>\n",
       "      <td>no</td>\n",
       "      <td>&gt; 2 Years</td>\n",
       "      <td>yes</td>\n",
       "      <td>40454</td>\n",
       "      <td>26</td>\n",
       "      <td>217</td>\n",
       "      <td>yes</td>\n",
       "    </tr>\n",
       "    <tr>\n",
       "      <th>1</th>\n",
       "      <td>Male</td>\n",
       "      <td>76</td>\n",
       "      <td>yes</td>\n",
       "      <td>3</td>\n",
       "      <td>no</td>\n",
       "      <td>1-2 Year</td>\n",
       "      <td>no</td>\n",
       "      <td>33536</td>\n",
       "      <td>26</td>\n",
       "      <td>183</td>\n",
       "      <td>no</td>\n",
       "    </tr>\n",
       "    <tr>\n",
       "      <th>2</th>\n",
       "      <td>Male</td>\n",
       "      <td>47</td>\n",
       "      <td>yes</td>\n",
       "      <td>28</td>\n",
       "      <td>no</td>\n",
       "      <td>&gt; 2 Years</td>\n",
       "      <td>yes</td>\n",
       "      <td>38294</td>\n",
       "      <td>26</td>\n",
       "      <td>27</td>\n",
       "      <td>yes</td>\n",
       "    </tr>\n",
       "    <tr>\n",
       "      <th>3</th>\n",
       "      <td>Male</td>\n",
       "      <td>21</td>\n",
       "      <td>yes</td>\n",
       "      <td>11</td>\n",
       "      <td>yes</td>\n",
       "      <td>&lt; 1 Year</td>\n",
       "      <td>no</td>\n",
       "      <td>28619</td>\n",
       "      <td>152</td>\n",
       "      <td>203</td>\n",
       "      <td>no</td>\n",
       "    </tr>\n",
       "    <tr>\n",
       "      <th>4</th>\n",
       "      <td>Female</td>\n",
       "      <td>29</td>\n",
       "      <td>yes</td>\n",
       "      <td>41</td>\n",
       "      <td>yes</td>\n",
       "      <td>&lt; 1 Year</td>\n",
       "      <td>no</td>\n",
       "      <td>27496</td>\n",
       "      <td>152</td>\n",
       "      <td>39</td>\n",
       "      <td>no</td>\n",
       "    </tr>\n",
       "  </tbody>\n",
       "</table>\n",
       "</div>"
      ],
      "text/plain": [
       "   gender  age driving_license  region_code previously_insured vehicle_age  \\\n",
       "0    Male   44             yes           28                 no   > 2 Years   \n",
       "1    Male   76             yes            3                 no    1-2 Year   \n",
       "2    Male   47             yes           28                 no   > 2 Years   \n",
       "3    Male   21             yes           11                yes    < 1 Year   \n",
       "4  Female   29             yes           41                yes    < 1 Year   \n",
       "\n",
       "  vehicle_damage  annual_premium  policy_sales_channel  vintage response  \n",
       "0            yes           40454                    26      217      yes  \n",
       "1             no           33536                    26      183       no  \n",
       "2            yes           38294                    26       27      yes  \n",
       "3             no           28619                   152      203       no  \n",
       "4             no           27496                   152       39       no  "
      ]
     },
     "execution_count": 162,
     "metadata": {},
     "output_type": "execute_result"
    }
   ],
   "source": [
    "df1.head()"
   ]
  },
  {
   "cell_type": "markdown",
   "metadata": {},
   "source": [
    "## 1.8 Descriptions Statistics"
   ]
  },
  {
   "cell_type": "code",
   "execution_count": 163,
   "metadata": {
    "ExecuteTime": {
     "end_time": "2021-02-24T12:48:24.206657Z",
     "start_time": "2021-02-24T12:48:24.055469Z"
    }
   },
   "outputs": [],
   "source": [
    "num_attributes = df1.select_dtypes(exclude='object')\n",
    "cat_attributes = df1.select_dtypes(include='object')"
   ]
  },
  {
   "cell_type": "markdown",
   "metadata": {},
   "source": [
    "### 1.8.1 Numerical Attributes"
   ]
  },
  {
   "cell_type": "code",
   "execution_count": 164,
   "metadata": {
    "ExecuteTime": {
     "end_time": "2021-02-24T12:48:24.543866Z",
     "start_time": "2021-02-24T12:48:24.209886Z"
    }
   },
   "outputs": [
    {
     "data": {
      "text/html": [
       "<div>\n",
       "<style scoped>\n",
       "    .dataframe tbody tr th:only-of-type {\n",
       "        vertical-align: middle;\n",
       "    }\n",
       "\n",
       "    .dataframe tbody tr th {\n",
       "        vertical-align: top;\n",
       "    }\n",
       "\n",
       "    .dataframe thead th {\n",
       "        text-align: right;\n",
       "    }\n",
       "</style>\n",
       "<table border=\"1\" class=\"dataframe\">\n",
       "  <thead>\n",
       "    <tr style=\"text-align: right;\">\n",
       "      <th></th>\n",
       "      <th>count</th>\n",
       "      <th>mean</th>\n",
       "      <th>std</th>\n",
       "      <th>min</th>\n",
       "      <th>25%</th>\n",
       "      <th>50%</th>\n",
       "      <th>75%</th>\n",
       "      <th>max</th>\n",
       "      <th>range</th>\n",
       "      <th>variation coefficient</th>\n",
       "      <th>skew</th>\n",
       "      <th>kurtosis</th>\n",
       "      <th>mode</th>\n",
       "    </tr>\n",
       "  </thead>\n",
       "  <tbody>\n",
       "    <tr>\n",
       "      <th>age</th>\n",
       "      <td>381109.0</td>\n",
       "      <td>38.822584</td>\n",
       "      <td>15.511611</td>\n",
       "      <td>20.0</td>\n",
       "      <td>25.0</td>\n",
       "      <td>36.0</td>\n",
       "      <td>49.0</td>\n",
       "      <td>85.0</td>\n",
       "      <td>65</td>\n",
       "      <td>0.399551</td>\n",
       "      <td>0.672539</td>\n",
       "      <td>-0.565655</td>\n",
       "      <td>24</td>\n",
       "    </tr>\n",
       "    <tr>\n",
       "      <th>region_code</th>\n",
       "      <td>381109.0</td>\n",
       "      <td>26.388807</td>\n",
       "      <td>13.229888</td>\n",
       "      <td>0.0</td>\n",
       "      <td>15.0</td>\n",
       "      <td>28.0</td>\n",
       "      <td>35.0</td>\n",
       "      <td>52.0</td>\n",
       "      <td>52</td>\n",
       "      <td>0.501345</td>\n",
       "      <td>-0.115266</td>\n",
       "      <td>-0.867857</td>\n",
       "      <td>28</td>\n",
       "    </tr>\n",
       "    <tr>\n",
       "      <th>annual_premium</th>\n",
       "      <td>381109.0</td>\n",
       "      <td>30564.389581</td>\n",
       "      <td>17213.155057</td>\n",
       "      <td>2630.0</td>\n",
       "      <td>24405.0</td>\n",
       "      <td>31669.0</td>\n",
       "      <td>39400.0</td>\n",
       "      <td>540165.0</td>\n",
       "      <td>537535</td>\n",
       "      <td>0.563177</td>\n",
       "      <td>1.766087</td>\n",
       "      <td>34.004569</td>\n",
       "      <td>2630</td>\n",
       "    </tr>\n",
       "    <tr>\n",
       "      <th>policy_sales_channel</th>\n",
       "      <td>381109.0</td>\n",
       "      <td>112.034295</td>\n",
       "      <td>54.203995</td>\n",
       "      <td>1.0</td>\n",
       "      <td>29.0</td>\n",
       "      <td>133.0</td>\n",
       "      <td>152.0</td>\n",
       "      <td>163.0</td>\n",
       "      <td>162</td>\n",
       "      <td>0.483816</td>\n",
       "      <td>-0.900008</td>\n",
       "      <td>-0.970810</td>\n",
       "      <td>152</td>\n",
       "    </tr>\n",
       "    <tr>\n",
       "      <th>vintage</th>\n",
       "      <td>381109.0</td>\n",
       "      <td>154.347397</td>\n",
       "      <td>83.671304</td>\n",
       "      <td>10.0</td>\n",
       "      <td>82.0</td>\n",
       "      <td>154.0</td>\n",
       "      <td>227.0</td>\n",
       "      <td>299.0</td>\n",
       "      <td>289</td>\n",
       "      <td>0.542097</td>\n",
       "      <td>0.003030</td>\n",
       "      <td>-1.200688</td>\n",
       "      <td>256</td>\n",
       "    </tr>\n",
       "  </tbody>\n",
       "</table>\n",
       "</div>"
      ],
      "text/plain": [
       "                         count          mean           std     min      25%  \\\n",
       "age                   381109.0     38.822584     15.511611    20.0     25.0   \n",
       "region_code           381109.0     26.388807     13.229888     0.0     15.0   \n",
       "annual_premium        381109.0  30564.389581  17213.155057  2630.0  24405.0   \n",
       "policy_sales_channel  381109.0    112.034295     54.203995     1.0     29.0   \n",
       "vintage               381109.0    154.347397     83.671304    10.0     82.0   \n",
       "\n",
       "                          50%      75%       max   range  \\\n",
       "age                      36.0     49.0      85.0      65   \n",
       "region_code              28.0     35.0      52.0      52   \n",
       "annual_premium        31669.0  39400.0  540165.0  537535   \n",
       "policy_sales_channel    133.0    152.0     163.0     162   \n",
       "vintage                 154.0    227.0     299.0     289   \n",
       "\n",
       "                      variation coefficient      skew   kurtosis  mode  \n",
       "age                                0.399551  0.672539  -0.565655    24  \n",
       "region_code                        0.501345 -0.115266  -0.867857    28  \n",
       "annual_premium                     0.563177  1.766087  34.004569  2630  \n",
       "policy_sales_channel               0.483816 -0.900008  -0.970810   152  \n",
       "vintage                            0.542097  0.003030  -1.200688   256  "
      ]
     },
     "execution_count": 164,
     "metadata": {},
     "output_type": "execute_result"
    }
   ],
   "source": [
    "describe = num_attributes.describe().T\n",
    "\n",
    "describe['range'] = (num_attributes.max() - num_attributes.min()).tolist()\n",
    "describe['variation coefficient'] = (num_attributes.std() / num_attributes.mean()).tolist()\n",
    "describe['skew'] = num_attributes.skew().tolist()\n",
    "describe['kurtosis'] = num_attributes.kurtosis().tolist()\n",
    "describe['mode'] = num_attributes.mode().T\n",
    "\n",
    "describe"
   ]
  },
  {
   "cell_type": "markdown",
   "metadata": {},
   "source": [
    "* The age mean is 39 years and the maximum value is 85 years. The variation is higher than 0.40. The skew is right skewed and kurtosis isn't 0, therefore the distribution isn't normal.\n",
    "* The region code is not a normal distribution because it has got negative skew and kurtosis. The min code is 0 and it may be a invalid code. The variation is higher because it's 0.50.\n",
    "* It has a higher negative skew and kurtosis!\n",
    "* The range is 537,535, so there's a great difference in some users to pay. \n",
    "* The maximum number of days to be with the company is 299 days and 10 days is the minimum. The skew is almost 0.0000, however the variation coeficient is greater than 0.50 and kurstosis is negative."
   ]
  },
  {
   "cell_type": "markdown",
   "metadata": {},
   "source": [
    "### 1.8.2 Categorical Attributes"
   ]
  },
  {
   "cell_type": "code",
   "execution_count": 165,
   "metadata": {
    "ExecuteTime": {
     "end_time": "2021-02-24T12:48:25.004184Z",
     "start_time": "2021-02-24T12:48:24.546143Z"
    }
   },
   "outputs": [
    {
     "data": {
      "text/html": [
       "<div>\n",
       "<style scoped>\n",
       "    .dataframe tbody tr th:only-of-type {\n",
       "        vertical-align: middle;\n",
       "    }\n",
       "\n",
       "    .dataframe tbody tr th {\n",
       "        vertical-align: top;\n",
       "    }\n",
       "\n",
       "    .dataframe thead th {\n",
       "        text-align: right;\n",
       "    }\n",
       "</style>\n",
       "<table border=\"1\" class=\"dataframe\">\n",
       "  <thead>\n",
       "    <tr style=\"text-align: right;\">\n",
       "      <th></th>\n",
       "      <th>count</th>\n",
       "      <th>unique</th>\n",
       "      <th>top</th>\n",
       "      <th>freq</th>\n",
       "    </tr>\n",
       "  </thead>\n",
       "  <tbody>\n",
       "    <tr>\n",
       "      <th>gender</th>\n",
       "      <td>381109</td>\n",
       "      <td>2</td>\n",
       "      <td>Male</td>\n",
       "      <td>206089</td>\n",
       "    </tr>\n",
       "    <tr>\n",
       "      <th>driving_license</th>\n",
       "      <td>381109</td>\n",
       "      <td>2</td>\n",
       "      <td>yes</td>\n",
       "      <td>380297</td>\n",
       "    </tr>\n",
       "    <tr>\n",
       "      <th>previously_insured</th>\n",
       "      <td>381109</td>\n",
       "      <td>2</td>\n",
       "      <td>no</td>\n",
       "      <td>206481</td>\n",
       "    </tr>\n",
       "    <tr>\n",
       "      <th>vehicle_age</th>\n",
       "      <td>381109</td>\n",
       "      <td>3</td>\n",
       "      <td>1-2 Year</td>\n",
       "      <td>200316</td>\n",
       "    </tr>\n",
       "    <tr>\n",
       "      <th>vehicle_damage</th>\n",
       "      <td>381109</td>\n",
       "      <td>2</td>\n",
       "      <td>yes</td>\n",
       "      <td>192413</td>\n",
       "    </tr>\n",
       "    <tr>\n",
       "      <th>response</th>\n",
       "      <td>381109</td>\n",
       "      <td>2</td>\n",
       "      <td>no</td>\n",
       "      <td>334399</td>\n",
       "    </tr>\n",
       "  </tbody>\n",
       "</table>\n",
       "</div>"
      ],
      "text/plain": [
       "                     count unique       top    freq\n",
       "gender              381109      2      Male  206089\n",
       "driving_license     381109      2       yes  380297\n",
       "previously_insured  381109      2        no  206481\n",
       "vehicle_age         381109      3  1-2 Year  200316\n",
       "vehicle_damage      381109      2       yes  192413\n",
       "response            381109      2        no  334399"
      ]
     },
     "execution_count": 165,
     "metadata": {},
     "output_type": "execute_result"
    }
   ],
   "source": [
    "cat_attributes.describe().T"
   ]
  },
  {
   "cell_type": "markdown",
   "metadata": {},
   "source": [
    "* There's only two types of gender and the top is male.\n",
    "* The most common 'no', in other words, the most people in this database don't have vehicle insurance.\n",
    "* The top value for driving_license is 'yes'. However, there are some people which doesn't have driving license.\n",
    "* The vehicle age most common is 1-2 years.\n",
    "* There are more accident vehicles than those that do not have an accident history."
   ]
  },
  {
   "cell_type": "code",
   "execution_count": 166,
   "metadata": {
    "ExecuteTime": {
     "end_time": "2021-02-24T12:48:27.824261Z",
     "start_time": "2021-02-24T12:48:27.323599Z"
    },
    "hidden": true
   },
   "outputs": [],
   "source": [
    "df2 = df1"
   ]
  },
  {
   "cell_type": "markdown",
   "metadata": {
    "hidden": true
   },
   "source": [
    "## 2.4 Selected Hypothesis"
   ]
  },
  {
   "cell_type": "markdown",
   "metadata": {
    "hidden": true
   },
   "source": [
    "1. More than 60% of customers who want health insurance are women.\n"
   ]
  },
  {
   "cell_type": "markdown",
   "metadata": {
    "hidden": true
   },
   "source": [
    "## 2.5 Feature Engineering"
   ]
  },
  {
   "cell_type": "code",
   "execution_count": 167,
   "metadata": {
    "ExecuteTime": {
     "end_time": "2021-02-24T12:48:28.091368Z",
     "start_time": "2021-02-24T12:48:27.868492Z"
    },
    "hidden": true
   },
   "outputs": [],
   "source": [
    "## life stage\n",
    "df2['life_stage'] = df2['age'].apply(getLifeStage)"
   ]
  },
  {
   "cell_type": "markdown",
   "metadata": {
    "heading_collapsed": true,
    "hidden": true
   },
   "source": [
    "## 4.1 Loading"
   ]
  },
  {
   "cell_type": "code",
   "execution_count": 168,
   "metadata": {
    "ExecuteTime": {
     "end_time": "2021-02-24T12:48:33.903237Z",
     "start_time": "2021-02-24T12:48:33.351029Z"
    },
    "hidden": true
   },
   "outputs": [],
   "source": [
    "df4 = df2"
   ]
  },
  {
   "cell_type": "markdown",
   "metadata": {
    "heading_collapsed": true,
    "hidden": true
   },
   "source": [
    "## 4.2 Univariate Analysis"
   ]
  },
  {
   "cell_type": "markdown",
   "metadata": {
    "heading_collapsed": true,
    "hidden": true
   },
   "source": [
    "### 4.2.1 Response Variable"
   ]
  },
  {
   "cell_type": "code",
   "execution_count": 169,
   "metadata": {
    "ExecuteTime": {
     "end_time": "2021-02-24T12:48:34.433982Z",
     "start_time": "2021-02-24T12:48:33.904805Z"
    },
    "hidden": true
   },
   "outputs": [
    {
     "data": {
      "image/png": "[encoded data removed]",
      "text/plain": [
       "<Figure size 640x480 with 1 Axes>"
      ]
     },
     "metadata": {},
     "output_type": "display_data"
    }
   ],
   "source": [
    "ax = sns.countplot(y='response', data=df4)\n",
    "\n",
    "total = df4['response'].size\n",
    "for p in ax.patches:\n",
    "        percentage = ' {:.1f}%'.format(100 * p.get_width()/total)\n",
    "        x = p.get_x() + p.get_width() + 0.02\n",
    "        y = p.get_y() + p.get_height()/2\n",
    "        ax.annotate(percentage, (x, y))"
   ]
  },
  {
   "cell_type": "markdown",
   "metadata": {
    "heading_collapsed": true,
    "hidden": true
   },
   "source": [
    "### 4.2.2 Numerical Variables"
   ]
  },
  {
   "cell_type": "code",
   "execution_count": 170,
   "metadata": {
    "ExecuteTime": {
     "end_time": "2021-02-24T12:48:47.167167Z",
     "start_time": "2021-02-24T12:48:34.438744Z"
    },
    "hidden": true
   },
   "outputs": [
    {
     "data": {
      "image/png": "[encoded data removed]",
      "text/plain": [
       "<Figure size 640x480 with 5 Axes>"
      ]
     },
     "metadata": {},
     "output_type": "display_data"
    }
   ],
   "source": [
    "aux1 = df4.select_dtypes(exclude='object')\n",
    "columns = aux1.columns.tolist()\n",
    "j = 1\n",
    "\n",
    "for column in columns:\n",
    "    plt.subplot(2, 4, j)\n",
    "    sns.histplot(aux1[column], kde=True);\n",
    "    \n",
    "    j += 1"
   ]
  },
  {
   "cell_type": "code",
   "execution_count": 171,
   "metadata": {
    "ExecuteTime": {
     "end_time": "2021-02-24T12:48:48.225035Z",
     "start_time": "2021-02-24T12:48:47.172646Z"
    },
    "hidden": true
   },
   "outputs": [
    {
     "data": {
      "image/png": "[encoded data removed]",
      "text/plain": [
       "<Figure size 640x480 with 5 Axes>"
      ]
     },
     "metadata": {},
     "output_type": "display_data"
    }
   ],
   "source": [
    "aux1 = df4.select_dtypes(exclude='object')\n",
    "columns = aux1.columns.tolist()\n",
    "j = 1\n",
    "\n",
    "for column in columns:\n",
    "    plt.subplot(2, 4, j)\n",
    "    sns.boxplot(aux1[column]);\n",
    "    \n",
    "    j += 1"
   ]
  },
  {
   "cell_type": "markdown",
   "metadata": {
    "heading_collapsed": true,
    "hidden": true
   },
   "source": [
    "### 4.2.3 Categorical Variables"
   ]
  },
  {
   "cell_type": "code",
   "execution_count": 172,
   "metadata": {
    "ExecuteTime": {
     "end_time": "2021-02-24T12:48:50.710219Z",
     "start_time": "2021-02-24T12:48:48.227347Z"
    },
    "hidden": true
   },
   "outputs": [
    {
     "data": {
      "image/png": "[encoded data removed]",
      "text/plain": [
       "<Figure size 640x480 with 6 Axes>"
      ]
     },
     "metadata": {},
     "output_type": "display_data"
    }
   ],
   "source": [
    "aux1 = df4.drop(columns=['response'], axis=1).select_dtypes(include='object')\n",
    "columns = aux1.columns.tolist()\n",
    "j = 1\n",
    "\n",
    "for column in columns:\n",
    "    plt.subplot(3, 2, j)\n",
    "    ax = sns.countplot(y=column, data=aux1)\n",
    "    \n",
    "    total = aux1[column].size\n",
    "    for p in ax.patches:\n",
    "        percentage = ' {:.1f}%'.format(100 * p.get_width()/total)\n",
    "        x = p.get_x() + p.get_width() + 0.02\n",
    "        y = p.get_y() + p.get_height()/2\n",
    "        ax.annotate(percentage, (x, y))\n",
    "    \n",
    "    j += 1"
   ]
  },
  {
   "cell_type": "markdown",
   "metadata": {
    "heading_collapsed": true,
    "hidden": true
   },
   "source": [
    "## 4.3 Bivariate Analysis"
   ]
  },
  {
   "cell_type": "markdown",
   "metadata": {
    "hidden": true
   },
   "source": [
    "### H1 More than 60% of customers who want health insurance are women.\n",
    "\n",
    "**FALSE:** Women are about 38.9% of the customers who want health insurance. "
   ]
  },
  {
   "cell_type": "code",
   "execution_count": 173,
   "metadata": {
    "ExecuteTime": {
     "end_time": "2021-02-24T12:48:51.560163Z",
     "start_time": "2021-02-24T12:48:50.714476Z"
    },
    "hidden": true
   },
   "outputs": [
    {
     "data": {
      "image/png": "[encoded data removed]",
      "text/plain": [
       "<Figure size 640x480 with 1 Axes>"
      ]
     },
     "metadata": {},
     "output_type": "display_data"
    }
   ],
   "source": [
    "aux1 = df4[df4['response'] == 'yes']\n",
    "ax = sns.countplot(y='gender', data=aux1)\n",
    "\n",
    "total = aux1['gender'].size\n",
    "for p in ax.patches:\n",
    "        percentage = ' {:.1f}%'.format(100 * p.get_width()/total)\n",
    "        x = p.get_x() + p.get_width() + 0.02\n",
    "        y = p.get_y() + p.get_height()/2\n",
    "        ax.annotate(percentage, (x, y))"
   ]
  },
  {
   "cell_type": "markdown",
   "metadata": {
    "heading_collapsed": true,
    "hidden": true
   },
   "source": [
    "## 4.4 Multivariaty Analysis"
   ]
  },
  {
   "cell_type": "markdown",
   "metadata": {
    "hidden": true
   },
   "source": [
    "### 4.4.1 Numerical"
   ]
  },
  {
   "cell_type": "code",
   "execution_count": 174,
   "metadata": {
    "ExecuteTime": {
     "end_time": "2021-02-24T12:49:28.025779Z",
     "start_time": "2021-02-24T12:49:27.514931Z"
    },
    "hidden": true
   },
   "outputs": [
    {
     "data": {
      "image/png": "[encoded data removed]",
      "text/plain": [
       "<Figure size 640x480 with 2 Axes>"
      ]
     },
     "metadata": {},
     "output_type": "display_data"
    }
   ],
   "source": [
    "corr = aux1 = df4.select_dtypes(exclude='object').corr()\n",
    "\n",
    "mask = np.zeros_like(corr)\n",
    "mask[np.triu_indices_from(mask)] = True\n",
    "\n",
    "with sns.axes_style(\"white\"):\n",
    "    ax = sns.heatmap(corr, annot=True, mask=mask, vmin=-1, center=0, vmax=1, square=True)"
   ]
  },
  {
   "cell_type": "markdown",
   "metadata": {
    "hidden": true
   },
   "source": [
    "### 4.4.2 Categorical"
   ]
  },
  {
   "cell_type": "code",
   "execution_count": 175,
   "metadata": {
    "ExecuteTime": {
     "end_time": "2021-02-24T12:49:32.545947Z",
     "start_time": "2021-02-24T12:49:28.027921Z"
    },
    "hidden": true
   },
   "outputs": [],
   "source": [
    "cat_attributes = df4.select_dtypes(include='object')\n",
    "dict_corr = {}\n",
    "columns = cat_attributes.columns.tolist()\n",
    "\n",
    "for column in columns:\n",
    "    dict_corr[column] = {}\n",
    "    \n",
    "    for column2 in columns:\n",
    "        dict_corr[column][column2] = calcCramerV(cat_attributes[column], cat_attributes[column2])\n",
    "        \n",
    "corr = pd.DataFrame(dict_corr)"
   ]
  },
  {
   "cell_type": "code",
   "execution_count": 176,
   "metadata": {
    "ExecuteTime": {
     "end_time": "2021-02-24T12:49:33.064998Z",
     "start_time": "2021-02-24T12:49:32.547643Z"
    },
    "hidden": true
   },
   "outputs": [
    {
     "data": {
      "image/png": "[encoded data removed]",
      "text/plain": [
       "<Figure size 640x480 with 2 Axes>"
      ]
     },
     "metadata": {},
     "output_type": "display_data"
    }
   ],
   "source": [
    "mask = np.zeros_like(corr)\n",
    "mask[np.triu_indices_from(mask)] = True\n",
    "\n",
    "with sns.axes_style(\"white\"):\n",
    "    ax = sns.heatmap(corr, annot=True, mask=mask, vmin=0, vmax=1, square=True)"
   ]
  },
  {
   "cell_type": "markdown",
   "metadata": {
    "heading_collapsed": true
   },
   "source": [
    "# 5.0 Data Preparation"
   ]
  },
  {
   "cell_type": "markdown",
   "metadata": {
    "hidden": true
   },
   "source": [
    "## 5.1 Loading"
   ]
  },
  {
   "cell_type": "code",
   "execution_count": 177,
   "metadata": {
    "ExecuteTime": {
     "end_time": "2021-02-24T12:49:33.557854Z",
     "start_time": "2021-02-24T12:49:33.068875Z"
    },
    "hidden": true
   },
   "outputs": [],
   "source": [
    "df5 = df4"
   ]
  },
  {
   "cell_type": "markdown",
   "metadata": {
    "hidden": true
   },
   "source": [
    "## 5.2 Spliting into Train, Valid and Test"
   ]
  },
  {
   "cell_type": "code",
   "execution_count": 178,
   "metadata": {
    "ExecuteTime": {
     "end_time": "2021-02-24T12:49:33.621682Z",
     "start_time": "2021-02-24T12:49:33.559752Z"
    },
    "hidden": true
   },
   "outputs": [],
   "source": [
    "X = df5.drop(columns='response', axis=1)\n",
    "y = df5['response'].map({'yes': 1, 'no': 0})"
   ]
  },
  {
   "cell_type": "code",
   "execution_count": 179,
   "metadata": {
    "ExecuteTime": {
     "end_time": "2021-02-24T12:49:34.174219Z",
     "start_time": "2021-02-24T12:49:33.625457Z"
    },
    "hidden": true
   },
   "outputs": [],
   "source": [
    "X_temp, X_test, y_temp, y_test = train_test_split(X, y, test_size=0.2, stratify=y)\n",
    "X_train, X_valid, y_train, y_valid = train_test_split(X_temp, y_temp, test_size=0.2, stratify=y_temp)\n"
   ]
  },
  {
   "cell_type": "markdown",
   "metadata": {
    "hidden": true
   },
   "source": [
    "## 5.3 Categorical Encoder"
   ]
  },
  {
   "cell_type": "markdown",
   "metadata": {
    "hidden": true
   },
   "source": [
    "### 5.3.1 One Hot Encoder"
   ]
  },
  {
   "cell_type": "code",
   "execution_count": 180,
   "metadata": {
    "ExecuteTime": {
     "end_time": "2021-02-24T12:49:34.181045Z",
     "start_time": "2021-02-24T12:49:34.176486Z"
    },
    "hidden": true
   },
   "outputs": [],
   "source": [
    "ohe_columns = ['gender', 'previously_insured', 'driving_license', 'vehicle_damage']\n",
    "ohe = ce.OneHotEncoder(cols=ohe_columns, use_cat_names=True)"
   ]
  },
  {
   "cell_type": "code",
   "execution_count": 181,
   "metadata": {
    "ExecuteTime": {
     "end_time": "2021-02-24T12:49:35.551296Z",
     "start_time": "2021-02-24T12:49:34.183916Z"
    },
    "hidden": true
   },
   "outputs": [],
   "source": [
    "X_params = ohe.fit_transform(X_temp)\n",
    "X_test = ohe.transform(X_test)"
   ]
  },
  {
   "cell_type": "code",
   "execution_count": 182,
   "metadata": {
    "ExecuteTime": {
     "end_time": "2021-02-24T12:49:36.547372Z",
     "start_time": "2021-02-24T12:49:35.553884Z"
    },
    "hidden": true
   },
   "outputs": [],
   "source": [
    "X_train = ohe.fit_transform(X_train)\n",
    "X_valid = ohe.transform(X_valid)"
   ]
  },
  {
   "cell_type": "markdown",
   "metadata": {
    "hidden": true
   },
   "source": [
    "### 5.3.2 Ordinal Encoder"
   ]
  },
  {
   "cell_type": "code",
   "execution_count": 183,
   "metadata": {
    "ExecuteTime": {
     "end_time": "2021-02-24T12:49:37.339784Z",
     "start_time": "2021-02-24T12:49:36.549202Z"
    },
    "hidden": true
   },
   "outputs": [],
   "source": [
    "columns_to = ['vehicle_age','life_stage' ]\n",
    "oe = ce.OrdinalEncoder(cols=columns_to, \n",
    "                       mapping=[\n",
    "                           {'col': 'vehicle_age', \n",
    "                            'mapping': {'< 1 Year': 1, \n",
    "                                        '1-2 Year': 2, \n",
    "                                        '> 2 Years': 3}\n",
    "                           },\n",
    "                           {'col': 'life_stage', \n",
    "                            'mapping': {'Adolescence': 4, \n",
    "                                        'Early Adulthood': 5, \n",
    "                                        'Midlife': 6, \n",
    "                                        'Mature Adulthood': 7, \n",
    "                                        'Late Adulthood': 8}\n",
    "                           }\n",
    "                       ], return_df=False)\n",
    "\n",
    "columns_to_oe = list(map(lambda i: i + '_oe', columns_to))\n",
    "\n",
    "X_params[columns_to_oe] = oe.fit_transform(X_params[columns_to])\n",
    "X_test[columns_to_oe] = oe.transform(X_test[columns_to])\n",
    "\n",
    "X_train[columns_to_oe] = oe.fit_transform(X_train[columns_to])\n",
    "X_valid[columns_to_oe] = oe.transform(X_valid[columns_to])"
   ]
  },
  {
   "cell_type": "markdown",
   "metadata": {
    "hidden": true
   },
   "source": [
    "### 5.3.3 Target Encoder"
   ]
  },
  {
   "cell_type": "code",
   "execution_count": 184,
   "metadata": {
    "ExecuteTime": {
     "end_time": "2021-02-24T12:49:44.312987Z",
     "start_time": "2021-02-24T12:49:37.341350Z"
    },
    "hidden": true
   },
   "outputs": [],
   "source": [
    "columns_to = ['region_code', 'policy_sales_channel', 'vehicle_age', 'life_stage']\n",
    "te = ce.TargetEncoder(cols=columns_to, return_df=False)\n",
    "\n",
    "columns_to_te = list(map(lambda i: i + '_te', columns_to))\n",
    "\n",
    "X_params[columns_to_te] = te.fit_transform(X_params[columns_to], y_temp)\n",
    "X_test[columns_to_te] = te.transform(X_test[columns_to])"
   ]
  },
  {
   "cell_type": "code",
   "execution_count": 185,
   "metadata": {
    "ExecuteTime": {
     "end_time": "2021-02-24T12:49:49.224890Z",
     "start_time": "2021-02-24T12:49:44.314578Z"
    },
    "hidden": true
   },
   "outputs": [],
   "source": [
    "X_train[columns_to_te] = te.fit_transform(X_train[columns_to], y_train)\n",
    "X_valid[columns_to_te] = te.transform(X_valid[columns_to])"
   ]
  },
  {
   "cell_type": "markdown",
   "metadata": {
    "hidden": true
   },
   "source": [
    "### 5.3.4 Count Encoder"
   ]
  },
  {
   "cell_type": "code",
   "execution_count": 186,
   "metadata": {
    "ExecuteTime": {
     "end_time": "2021-02-24T12:49:49.982354Z",
     "start_time": "2021-02-24T12:49:49.226837Z"
    },
    "hidden": true
   },
   "outputs": [],
   "source": [
    "columns_to = ['region_code', 'policy_sales_channel', 'vehicle_age', 'life_stage']\n",
    "count = ce.CountEncoder(cols=columns_to, return_df=False)\n",
    "\n",
    "columns_to_te = list(map(lambda i: i + '_ce', columns_to))\n",
    "\n",
    "X_params[columns_to_te] = count.fit_transform(X_params[columns_to], y_temp)\n",
    "X_test[columns_to_te] = count.transform(X_test[columns_to])"
   ]
  },
  {
   "cell_type": "markdown",
   "metadata": {
    "hidden": true
   },
   "source": [
    "## 5.4 Natural Transformation"
   ]
  },
  {
   "cell_type": "markdown",
   "metadata": {
    "hidden": true
   },
   "source": [
    "### 5.4.1 Age"
   ]
  },
  {
   "cell_type": "code",
   "execution_count": 187,
   "metadata": {
    "ExecuteTime": {
     "end_time": "2021-02-24T12:49:50.332119Z",
     "start_time": "2021-02-24T12:49:49.983852Z"
    },
    "hidden": true
   },
   "outputs": [
    {
     "data": {
      "text/html": [
       "<div>\n",
       "<style scoped>\n",
       "    .dataframe tbody tr th:only-of-type {\n",
       "        vertical-align: middle;\n",
       "    }\n",
       "\n",
       "    .dataframe tbody tr th {\n",
       "        vertical-align: top;\n",
       "    }\n",
       "\n",
       "    .dataframe thead th {\n",
       "        text-align: right;\n",
       "    }\n",
       "</style>\n",
       "<table border=\"1\" class=\"dataframe\">\n",
       "  <thead>\n",
       "    <tr style=\"text-align: right;\">\n",
       "      <th></th>\n",
       "      <th>Shapiro</th>\n",
       "      <th>Skew</th>\n",
       "      <th>Kurtosis</th>\n",
       "    </tr>\n",
       "  </thead>\n",
       "  <tbody>\n",
       "    <tr>\n",
       "      <th>default</th>\n",
       "      <td>0.909740</td>\n",
       "      <td>0.671706</td>\n",
       "      <td>-0.568536</td>\n",
       "    </tr>\n",
       "    <tr>\n",
       "      <th>boxcox</th>\n",
       "      <td>0.933842</td>\n",
       "      <td>0.062228</td>\n",
       "      <td>-1.348094</td>\n",
       "    </tr>\n",
       "    <tr>\n",
       "      <th>sqrt</th>\n",
       "      <td>0.927860</td>\n",
       "      <td>0.425563</td>\n",
       "      <td>-0.987972</td>\n",
       "    </tr>\n",
       "    <tr>\n",
       "      <th>cuberoot</th>\n",
       "      <td>0.930823</td>\n",
       "      <td>0.348966</td>\n",
       "      <td>-1.090802</td>\n",
       "    </tr>\n",
       "    <tr>\n",
       "      <th>log</th>\n",
       "      <td>0.933749</td>\n",
       "      <td>0.204254</td>\n",
       "      <td>-1.246811</td>\n",
       "    </tr>\n",
       "  </tbody>\n",
       "</table>\n",
       "</div>"
      ],
      "text/plain": [
       "           Shapiro      Skew  Kurtosis\n",
       "default   0.909740  0.671706 -0.568536\n",
       "boxcox    0.933842  0.062228 -1.348094\n",
       "sqrt      0.927860  0.425563 -0.987972\n",
       "cuberoot  0.930823  0.348966 -1.090802\n",
       "log       0.933749  0.204254 -1.246811"
      ]
     },
     "execution_count": 187,
     "metadata": {},
     "output_type": "execute_result"
    }
   ],
   "source": [
    "normal_tests(X_params['age'])"
   ]
  },
  {
   "cell_type": "code",
   "execution_count": 188,
   "metadata": {
    "ExecuteTime": {
     "end_time": "2021-02-24T12:49:50.589228Z",
     "start_time": "2021-02-24T12:49:50.334473Z"
    },
    "hidden": true
   },
   "outputs": [],
   "source": [
    "X_params['age_bx'] = stats.boxcox(X_params['age'])[0]\n",
    "X_test['age_bx'] = stats.boxcox(X_test['age'])[0]"
   ]
  },
  {
   "cell_type": "code",
   "execution_count": 189,
   "metadata": {
    "ExecuteTime": {
     "end_time": "2021-02-24T12:49:50.785977Z",
     "start_time": "2021-02-24T12:49:50.590779Z"
    },
    "hidden": true
   },
   "outputs": [],
   "source": [
    "X_train['age_bx'] = stats.boxcox(X_train['age'])[0]\n",
    "X_valid['age_bx'] = stats.boxcox(X_valid['age'])[0]"
   ]
  },
  {
   "cell_type": "markdown",
   "metadata": {
    "hidden": true
   },
   "source": [
    "### 5.4.2 Annual Premium"
   ]
  },
  {
   "cell_type": "code",
   "execution_count": 190,
   "metadata": {
    "ExecuteTime": {
     "end_time": "2021-02-24T12:49:51.231214Z",
     "start_time": "2021-02-24T12:49:50.787459Z"
    },
    "hidden": true
   },
   "outputs": [
    {
     "data": {
      "text/html": [
       "<div>\n",
       "<style scoped>\n",
       "    .dataframe tbody tr th:only-of-type {\n",
       "        vertical-align: middle;\n",
       "    }\n",
       "\n",
       "    .dataframe tbody tr th {\n",
       "        vertical-align: top;\n",
       "    }\n",
       "\n",
       "    .dataframe thead th {\n",
       "        text-align: right;\n",
       "    }\n",
       "</style>\n",
       "<table border=\"1\" class=\"dataframe\">\n",
       "  <thead>\n",
       "    <tr style=\"text-align: right;\">\n",
       "      <th></th>\n",
       "      <th>Shapiro</th>\n",
       "      <th>Skew</th>\n",
       "      <th>Kurtosis</th>\n",
       "    </tr>\n",
       "  </thead>\n",
       "  <tbody>\n",
       "    <tr>\n",
       "      <th>default</th>\n",
       "      <td>0.874452</td>\n",
       "      <td>1.721291</td>\n",
       "      <td>32.191150</td>\n",
       "    </tr>\n",
       "    <tr>\n",
       "      <th>boxcox</th>\n",
       "      <td>0.886389</td>\n",
       "      <td>0.075617</td>\n",
       "      <td>5.841871</td>\n",
       "    </tr>\n",
       "    <tr>\n",
       "      <th>sqrt</th>\n",
       "      <td>0.844158</td>\n",
       "      <td>-0.790178</td>\n",
       "      <td>0.870216</td>\n",
       "    </tr>\n",
       "    <tr>\n",
       "      <th>cuberoot</th>\n",
       "      <td>0.800363</td>\n",
       "      <td>-1.101751</td>\n",
       "      <td>0.481673</td>\n",
       "    </tr>\n",
       "    <tr>\n",
       "      <th>log</th>\n",
       "      <td>0.700827</td>\n",
       "      <td>-1.468965</td>\n",
       "      <td>0.653118</td>\n",
       "    </tr>\n",
       "  </tbody>\n",
       "</table>\n",
       "</div>"
      ],
      "text/plain": [
       "           Shapiro      Skew   Kurtosis\n",
       "default   0.874452  1.721291  32.191150\n",
       "boxcox    0.886389  0.075617   5.841871\n",
       "sqrt      0.844158 -0.790178   0.870216\n",
       "cuberoot  0.800363 -1.101751   0.481673\n",
       "log       0.700827 -1.468965   0.653118"
      ]
     },
     "execution_count": 190,
     "metadata": {},
     "output_type": "execute_result"
    }
   ],
   "source": [
    "normal_tests(X_params['annual_premium'])"
   ]
  },
  {
   "cell_type": "code",
   "execution_count": 191,
   "metadata": {
    "ExecuteTime": {
     "end_time": "2021-02-24T12:49:51.242043Z",
     "start_time": "2021-02-24T12:49:51.233610Z"
    },
    "hidden": true
   },
   "outputs": [],
   "source": [
    "X_params['annual_premium_sqrt'] = np.sqrt(X_params['annual_premium'])\n",
    "X_test['annual_premium_sqrt'] = np.sqrt(X_test['annual_premium'])"
   ]
  },
  {
   "cell_type": "code",
   "execution_count": 192,
   "metadata": {
    "ExecuteTime": {
     "end_time": "2021-02-24T12:49:51.253124Z",
     "start_time": "2021-02-24T12:49:51.244433Z"
    },
    "hidden": true
   },
   "outputs": [],
   "source": [
    "X_train['annual_premium_sqrt'] = np.sqrt(X_train['annual_premium'])\n",
    "X_valid['annual_premium_sqrt'] = np.sqrt(X_valid['annual_premium'])"
   ]
  },
  {
   "cell_type": "markdown",
   "metadata": {
    "hidden": true
   },
   "source": [
    "### 5.4.3 Vintage"
   ]
  },
  {
   "cell_type": "code",
   "execution_count": 193,
   "metadata": {
    "ExecuteTime": {
     "end_time": "2021-02-24T12:49:51.894908Z",
     "start_time": "2021-02-24T12:49:51.255406Z"
    },
    "hidden": true
   },
   "outputs": [
    {
     "data": {
      "text/html": [
       "<div>\n",
       "<style scoped>\n",
       "    .dataframe tbody tr th:only-of-type {\n",
       "        vertical-align: middle;\n",
       "    }\n",
       "\n",
       "    .dataframe tbody tr th {\n",
       "        vertical-align: top;\n",
       "    }\n",
       "\n",
       "    .dataframe thead th {\n",
       "        text-align: right;\n",
       "    }\n",
       "</style>\n",
       "<table border=\"1\" class=\"dataframe\">\n",
       "  <thead>\n",
       "    <tr style=\"text-align: right;\">\n",
       "      <th></th>\n",
       "      <th>Shapiro</th>\n",
       "      <th>Skew</th>\n",
       "      <th>Kurtosis</th>\n",
       "    </tr>\n",
       "  </thead>\n",
       "  <tbody>\n",
       "    <tr>\n",
       "      <th>default</th>\n",
       "      <td>0.955203</td>\n",
       "      <td>0.003030</td>\n",
       "      <td>-1.200688</td>\n",
       "    </tr>\n",
       "    <tr>\n",
       "      <th>boxcox</th>\n",
       "      <td>0.956828</td>\n",
       "      <td>-0.227827</td>\n",
       "      <td>-1.080024</td>\n",
       "    </tr>\n",
       "    <tr>\n",
       "      <th>sqrt</th>\n",
       "      <td>0.949375</td>\n",
       "      <td>-0.456101</td>\n",
       "      <td>-0.829477</td>\n",
       "    </tr>\n",
       "    <tr>\n",
       "      <th>cuberoot</th>\n",
       "      <td>0.936949</td>\n",
       "      <td>-0.649572</td>\n",
       "      <td>-0.515261</td>\n",
       "    </tr>\n",
       "    <tr>\n",
       "      <th>log</th>\n",
       "      <td>0.888338</td>\n",
       "      <td>-1.119255</td>\n",
       "      <td>0.630900</td>\n",
       "    </tr>\n",
       "  </tbody>\n",
       "</table>\n",
       "</div>"
      ],
      "text/plain": [
       "           Shapiro      Skew  Kurtosis\n",
       "default   0.955203  0.003030 -1.200688\n",
       "boxcox    0.956828 -0.227827 -1.080024\n",
       "sqrt      0.949375 -0.456101 -0.829477\n",
       "cuberoot  0.936949 -0.649572 -0.515261\n",
       "log       0.888338 -1.119255  0.630900"
      ]
     },
     "execution_count": 193,
     "metadata": {},
     "output_type": "execute_result"
    }
   ],
   "source": [
    "normal_tests(df5['vintage'])"
   ]
  },
  {
   "cell_type": "code",
   "execution_count": 194,
   "metadata": {
    "ExecuteTime": {
     "end_time": "2021-02-24T12:49:51.917614Z",
     "start_time": "2021-02-24T12:49:51.897269Z"
    },
    "hidden": true
   },
   "outputs": [],
   "source": [
    "X_params['vintage_cuberoot'] = np.power(X_params['vintage'], 1/3)\n",
    "X_test['vintage_cuberoot'] = np.power(X_test['vintage'], 1/3)"
   ]
  },
  {
   "cell_type": "code",
   "execution_count": 195,
   "metadata": {
    "ExecuteTime": {
     "end_time": "2021-02-24T12:49:51.935643Z",
     "start_time": "2021-02-24T12:49:51.919778Z"
    },
    "hidden": true
   },
   "outputs": [],
   "source": [
    "X_train['vintage_cuberoot'] = np.power(X_train['vintage'], 1/3)\n",
    "X_valid['vintage_cuberoot'] = np.power(X_valid['vintage'], 1/3)"
   ]
  },
  {
   "cell_type": "markdown",
   "metadata": {
    "hidden": true
   },
   "source": [
    "## 5.5 Scaling"
   ]
  },
  {
   "cell_type": "markdown",
   "metadata": {
    "hidden": true
   },
   "source": [
    "### 5.5.1 Standard Scaler"
   ]
  },
  {
   "cell_type": "code",
   "execution_count": 196,
   "metadata": {
    "ExecuteTime": {
     "end_time": "2021-02-24T12:49:52.372059Z",
     "start_time": "2021-02-24T12:49:51.937546Z"
    },
    "hidden": true
   },
   "outputs": [],
   "source": [
    "columns_to = columns_to = ['age_bx', 'annual_premium_sqrt', 'vintage_cuberoot']\n",
    "ss = StandardScaler()\n",
    "\n",
    "columns_to_ss = list(map(lambda i: i + '_ss', columns_to))\n",
    "\n",
    "X_params.loc[:, columns_to_ss] = ss.fit_transform(X_params[columns_to])\n",
    "X_test.loc[:, columns_to_ss] = ss.transform(X_test[columns_to])\n",
    "\n",
    "X_train.loc[:, columns_to_ss] = ss.fit_transform(X_train[columns_to])\n",
    "X_valid.loc[:, columns_to_ss] = ss.transform(X_valid[columns_to])"
   ]
  },
  {
   "cell_type": "markdown",
   "metadata": {
    "hidden": true
   },
   "source": [
    "### 5.5.2 MinMax Scaler "
   ]
  },
  {
   "cell_type": "code",
   "execution_count": 197,
   "metadata": {
    "ExecuteTime": {
     "end_time": "2021-02-24T12:49:52.724637Z",
     "start_time": "2021-02-24T12:49:52.374937Z"
    },
    "hidden": true
   },
   "outputs": [],
   "source": [
    "columns_to = columns_to = ['age', 'vintage']\n",
    "mm = MinMaxScaler()\n",
    "\n",
    "columns_to_mm = list(map(lambda i: i + '_mm', columns_to))\n",
    "\n",
    "X_params.loc[:, columns_to_mm] = ss.fit_transform(X_params[columns_to])\n",
    "X_test.loc[:, columns_to_mm] = ss.transform(X_test[columns_to])\n",
    "\n",
    "X_train.loc[:, columns_to_mm] = ss.fit_transform(X_train[columns_to])\n",
    "X_valid.loc[:, columns_to_mm] = ss.transform(X_valid[columns_to])"
   ]
  },
  {
   "cell_type": "markdown",
   "metadata": {
    "hidden": true
   },
   "source": [
    "### 5.5.3 Robust Scaler"
   ]
  },
  {
   "cell_type": "code",
   "execution_count": 198,
   "metadata": {
    "ExecuteTime": {
     "end_time": "2021-02-24T12:49:52.950506Z",
     "start_time": "2021-02-24T12:49:52.726259Z"
    },
    "hidden": true
   },
   "outputs": [],
   "source": [
    "columns_to = columns_to = ['annual_premium']\n",
    "rs = RobustScaler()\n",
    "\n",
    "columns_to_rs = list(map(lambda i: i + '_rs', columns_to))\n",
    "\n",
    "X_params.loc[:, columns_to_rs] = ss.fit_transform(X_params[columns_to])\n",
    "X_test.loc[:, columns_to_rs] = ss.transform(X_test[columns_to])\n",
    "\n",
    "X_train.loc[:, columns_to_rs] = ss.fit_transform(X_train[columns_to])\n",
    "X_valid.loc[:, columns_to_rs] = ss.transform(X_valid[columns_to])"
   ]
  },
  {
   "cell_type": "markdown",
   "metadata": {
    "hidden": true
   },
   "source": [
    "## 5.6 Remove Columns"
   ]
  },
  {
   "cell_type": "code",
   "execution_count": 199,
   "metadata": {
    "ExecuteTime": {
     "end_time": "2021-02-24T12:49:53.089780Z",
     "start_time": "2021-02-24T12:49:52.952150Z"
    },
    "hidden": true
   },
   "outputs": [],
   "source": [
    "columns_to_drop = ['age', 'region_code', 'policy_sales_channel', 'annual_premium', 'vintage', 'vehicle_age', \n",
    "                   'life_stage', 'age_bx', 'annual_premium_sqrt', 'vintage_cuberoot']\n",
    "\n",
    "X_params.drop(columns=columns_to_drop, axis=1, inplace=True)\n",
    "X_test.drop(columns=columns_to_drop, axis=1, inplace=True)\n",
    "\n",
    "X_train.drop(columns=columns_to_drop, axis=1, inplace=True)\n",
    "X_valid.drop(columns=columns_to_drop, axis=1, inplace=True)"
   ]
  },
  {
   "cell_type": "markdown",
   "metadata": {
    "hidden": true
   },
   "source": [
    "## 5.7 Saves"
   ]
  },
  {
   "cell_type": "code",
   "execution_count": 200,
   "metadata": {
    "ExecuteTime": {
     "end_time": "2021-02-24T12:49:53.101873Z",
     "start_time": "2021-02-24T12:49:53.091575Z"
    },
    "hidden": true
   },
   "outputs": [],
   "source": [
    "X_temp['response'] = y_temp.values\n",
    "\n",
    "X_params['response'] = y_temp.values\n",
    "X_test['response'] = y_test.values\n",
    "\n",
    "X_train['response'] = y_train.values\n",
    "X_valid['response'] = y_valid.values"
   ]
  },
  {
   "cell_type": "markdown",
   "metadata": {
    "heading_collapsed": true
   },
   "source": [
    "# 6.0 Feature Selection"
   ]
  },
  {
   "cell_type": "markdown",
   "metadata": {
    "hidden": true
   },
   "source": [
    "## 6.1 Loading"
   ]
  },
  {
   "cell_type": "code",
   "execution_count": 201,
   "metadata": {
    "ExecuteTime": {
     "end_time": "2021-02-24T12:51:55.598999Z",
     "start_time": "2021-02-24T12:51:52.718685Z"
    },
    "hidden": true
   },
   "outputs": [],
   "source": [
    "df6_temp = X_temp\n",
    "\n",
    "df6_params = X_params\n",
    "df6_test = X_test\n",
    "\n",
    "df6_train = X_train\n",
    "df6_valid = X_valid"
   ]
  },
  {
   "cell_type": "code",
   "execution_count": 202,
   "metadata": {
    "ExecuteTime": {
     "end_time": "2021-02-24T13:04:08.172344Z",
     "start_time": "2021-02-24T13:04:08.078034Z"
    },
    "hidden": true
   },
   "outputs": [],
   "source": [
    "X_temp, y_temp = df6_temp.iloc[:, :-1], df6_temp.iloc[:, -1]\n",
    "\n",
    "X_params, y_params = df6_params.iloc[:, :-1], df6_params.iloc[:, -1]\n",
    "X_test, y_test = df6_test.iloc[:, :-1], df6_test.iloc[:, -1]\n",
    "\n",
    "X_train, y_train = df6_train.iloc[:, :-1], df6_train.iloc[:, -1]\n",
    "X_valid, y_valid = df6_valid.iloc[:, :-1], df6_valid.iloc[:, -1]"
   ]
  },
  {
   "cell_type": "code",
   "execution_count": 203,
   "metadata": {
    "ExecuteTime": {
     "end_time": "2021-02-24T12:52:07.841382Z",
     "start_time": "2021-02-24T12:52:07.838068Z"
    },
    "hidden": true
   },
   "outputs": [],
   "source": [
    "columns_selected_ext = ['previously_insured_yes', 'previously_insured_no', 'vehicle_damage_no',\n",
    "                        'vehicle_damage_yes', 'policy_sales_channel_te', 'age_bx_ss', 'age_mm']"
   ]
  },
  {
   "cell_type": "code",
   "execution_count": 204,
   "metadata": {
    "ExecuteTime": {
     "end_time": "2021-02-24T12:52:10.788345Z",
     "start_time": "2021-02-24T12:52:10.780139Z"
    },
    "hidden": true
   },
   "outputs": [],
   "source": [
    "columns_selected_rf = ['previously_insured_yes', 'previously_insured_no', 'vehicle_damage_no',\n",
    "                       'vehicle_damage_yes', 'region_code_te', 'region_code_ce', 'age_bx_ss',\n",
    "                       'annual_premium_sqrt_ss', 'vintage_cuberoot_ss', 'age_mm', 'vintage_mm',\n",
    "                       'annual_premium_rs']"
   ]
  },
  {
   "cell_type": "markdown",
   "metadata": {
    "heading_collapsed": true,
    "hidden": true
   },
   "source": [
    "## 6.4 Feature Importances + Extra Tree"
   ]
  },
  {
   "cell_type": "code",
   "execution_count": 205,
   "metadata": {
    "ExecuteTime": {
     "end_time": "2021-02-24T12:52:43.629685Z",
     "start_time": "2021-02-24T12:52:43.625785Z"
    },
    "hidden": true
   },
   "outputs": [],
   "source": [
    "columns_selected_fi = ['vehicle_damage_yes', 'vintage_mm', 'vintage_cuberoot_ss', 'previously_insured_no', \n",
    "                       'annual_premium_sqrt_ss', 'annual_premium_rs', 'annual_premium_rs', 'vehicle_damage_no']"
   ]
  },
  {
   "cell_type": "markdown",
   "metadata": {
    "hidden": true
   },
   "source": [
    "## 6.5 Saves"
   ]
  },
  {
   "cell_type": "code",
   "execution_count": 206,
   "metadata": {
    "ExecuteTime": {
     "end_time": "2021-02-24T13:34:23.735642Z",
     "start_time": "2021-02-24T13:34:23.705630Z"
    },
    "hidden": true
   },
   "outputs": [],
   "source": [
    "cs = ['previously_insured_yes', 'previously_insured_no', 'vehicle_damage_no',\n",
    "      'vehicle_damage_yes', 'policy_sales_channel_te', 'age_bx_ss', 'age_mm']\n",
    "\n",
    "X_temp_cs = X_temp[['previously_insured', 'vehicle_damage', 'policy_sales_channel', 'age']]\n",
    "\n",
    "X_params_cs = X_params[cs]\n",
    "X_test_cs = X_test[cs]\n",
    "\n",
    "X_train_cs = X_train[cs]\n",
    "X_valid_cs = X_valid[cs]"
   ]
  },
  {
   "cell_type": "code",
   "execution_count": 207,
   "metadata": {
    "ExecuteTime": {
     "end_time": "2021-02-24T13:34:27.390071Z",
     "start_time": "2021-02-24T13:34:27.380034Z"
    },
    "hidden": true
   },
   "outputs": [],
   "source": [
    "X_temp_cs['response'] = y_temp.values\n",
    "\n",
    "X_params_cs['response'] = y_params.values\n",
    "X_test_cs['response'] = y_test.values\n",
    "\n",
    "X_train_cs['response'] = y_train.values\n",
    "X_valid_cs['response'] = y_valid.values"
   ]
  },
  {
   "cell_type": "markdown",
   "metadata": {
    "heading_collapsed": true
   },
   "source": [
    "# 7.0 Machine Learning Modeling"
   ]
  },
  {
   "cell_type": "markdown",
   "metadata": {
    "heading_collapsed": true,
    "hidden": true
   },
   "source": [
    "## 7.1 Loading"
   ]
  },
  {
   "cell_type": "code",
   "execution_count": 208,
   "metadata": {
    "ExecuteTime": {
     "end_time": "2021-02-24T14:26:45.886659Z",
     "start_time": "2021-02-24T14:26:45.216754Z"
    },
    "hidden": true
   },
   "outputs": [],
   "source": [
    "df7_params = X_params_cs\n",
    "df7_test = X_test_cs\n",
    "\n",
    "df7_train = X_train_cs\n",
    "df7_valid = X_valid_cs\n",
    "\n",
    "df7_temp = X_temp_cs"
   ]
  },
  {
   "cell_type": "code",
   "execution_count": 209,
   "metadata": {
    "ExecuteTime": {
     "end_time": "2021-02-24T14:26:45.925047Z",
     "start_time": "2021-02-24T14:26:45.889841Z"
    },
    "hidden": true
   },
   "outputs": [],
   "source": [
    "X_params, y_params = df7_params.iloc[:, :-1], df7_params.iloc[:, -1]\n",
    "X_test, y_test = df7_test.iloc[:, :-1], df7_test.iloc[:, -1]\n",
    "\n",
    "X_train, y_train = df7_train.iloc[:, :-1], df7_train.iloc[:, -1]\n",
    "X_valid, y_valid = df7_valid.iloc[:, :-1], df7_valid.iloc[:, -1]\n",
    "\n",
    "X_temp, y_temp = df7_temp.iloc[:, :-1], df7_temp.iloc[:, -1]"
   ]
  },
  {
   "cell_type": "code",
   "execution_count": 211,
   "metadata": {},
   "outputs": [],
   "source": [
    "X_train\n",
    "X_train.to_excel('C:/Users/Raghavendra Reddy/Downloads/stat5.xlsx')"
   ]
  },
  {
   "cell_type": "markdown",
   "metadata": {
    "hidden": true
   },
   "source": [
    "## 7.3 Logistic Regression"
   ]
  },
  {
   "cell_type": "code",
   "execution_count": 67,
   "metadata": {
    "ExecuteTime": {
     "end_time": "2021-02-24T14:34:22.759935Z",
     "start_time": "2021-02-24T14:34:21.624356Z"
    },
    "hidden": true
   },
   "outputs": [],
   "source": [
    "lg = LogisticRegression(class_weight='balanced')\n",
    "lg.fit(X_train, y_train)\n",
    "\n",
    "y_prob = lg.predict_proba(X_valid)"
   ]
  },
  {
   "cell_type": "code",
   "execution_count": 68,
   "metadata": {},
   "outputs": [
    {
     "data": {
      "text/plain": [
       "array([[0.99228225, 0.00771775],\n",
       "       [0.67048687, 0.32951313],\n",
       "       [0.27454706, 0.72545294],\n",
       "       ...,\n",
       "       [0.53258921, 0.46741079],\n",
       "       [0.99669209, 0.00330791],\n",
       "       [0.3321847 , 0.6678153 ]])"
      ]
     },
     "execution_count": 68,
     "metadata": {},
     "output_type": "execute_result"
    }
   ],
   "source": [
    "y_prob\n"
   ]
  },
  {
   "cell_type": "code",
   "execution_count": null,
   "metadata": {},
   "outputs": [],
   "source": [
    "pred=y_prob[:,:1]\n",
    "pred=pred.astype('int')\n",
    "pred"
   ]
  },
  {
   "cell_type": "markdown",
   "metadata": {
    "hidden": true
   },
   "source": [
    "### 7.3.1 Results"
   ]
  },
  {
   "cell_type": "code",
   "execution_count": 69,
   "metadata": {
    "ExecuteTime": {
     "end_time": "2021-02-24T14:34:22.868652Z",
     "start_time": "2021-02-24T14:34:22.763345Z"
    },
    "hidden": true
   },
   "outputs": [
    {
     "data": {
      "text/html": [
       "<div>\n",
       "<style scoped>\n",
       "    .dataframe tbody tr th:only-of-type {\n",
       "        vertical-align: middle;\n",
       "    }\n",
       "\n",
       "    .dataframe tbody tr th {\n",
       "        vertical-align: top;\n",
       "    }\n",
       "\n",
       "    .dataframe thead th {\n",
       "        text-align: right;\n",
       "    }\n",
       "</style>\n",
       "<table border=\"1\" class=\"dataframe\">\n",
       "  <thead>\n",
       "    <tr style=\"text-align: right;\">\n",
       "      <th></th>\n",
       "      <th>Precision_at_k</th>\n",
       "      <th>Recall_at_k</th>\n",
       "      <th>F1_at_k</th>\n",
       "    </tr>\n",
       "  </thead>\n",
       "  <tbody>\n",
       "    <tr>\n",
       "      <th>Logistic Regression</th>\n",
       "      <td>0.2424</td>\n",
       "      <td>0.989</td>\n",
       "      <td>0.3894</td>\n",
       "    </tr>\n",
       "  </tbody>\n",
       "</table>\n",
       "</div>"
      ],
      "text/plain": [
       "                     Precision_at_k  Recall_at_k  F1_at_k\n",
       "Logistic Regression          0.2424        0.989   0.3894"
      ]
     },
     "execution_count": 69,
     "metadata": {},
     "output_type": "execute_result"
    }
   ],
   "source": [
    "k = int(y_valid.shape[0] / 2)\n",
    "\n",
    "lg_results = ml_top_k_scores('Logistic Regression', y_valid, y_prob, k=k)\n",
    "lg_results"
   ]
  },
  {
   "cell_type": "code",
   "execution_count": 91,
   "metadata": {},
   "outputs": [
    {
     "name": "stdout",
     "output_type": "stream",
     "text": [
      "Accuracy score 0.8774312046967759\n"
     ]
    }
   ],
   "source": [
    "from sklearn.metrics import accuracy_score\n",
    "\n",
    "score=accuracy_score(y_valid,pred)\n",
    "print('Accuracy score',score)"
   ]
  }
 ],
 "metadata": {
  "kernelspec": {
   "display_name": "Python 3 (ipykernel)",
   "language": "python",
   "name": "python3"
  },
  "language_info": {
   "codemirror_mode": {
    "name": "ipython",
    "version": 3
   },
   "file_extension": ".py",
   "mimetype": "text/x-python",
   "name": "python",
   "nbconvert_exporter": "python",
   "pygments_lexer": "ipython3",
   "version": "3.11.4"
  }
 },
 "nbformat": 4,
 "nbformat_minor": 4
}
